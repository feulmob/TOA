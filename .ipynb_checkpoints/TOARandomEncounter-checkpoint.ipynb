{
 "cells": [
  {
   "cell_type": "code",
   "execution_count": null,
   "metadata": {},
   "outputs": [],
   "source": [
    "from matplotlib.pyplot import imshow, show\n",
    "import numpy as np\n",
    "from PIL import Image\n",
    "import pytesseract\n",
    "%matplotlib inline\n",
    "\n",
    "pytesseract.pytesseract.tesseract_cmd = r\"C:\\Program Files (x86)\\Tesseract-OCR\\tesseract.exe\""
   ]
  },
  {
   "cell_type": "code",
   "execution_count": null,
   "metadata": {},
   "outputs": [],
   "source": [
    "def get_average_color(x, n, image):\n",
    "    \"\"\" Returns a 3-tuple containing the RGB value of the average color of the\n",
    "    given square bounded area of length = n whose origin (top left corner) \n",
    "    is (x, y) in the given image\"\"\"\n",
    "    x, y = x\n",
    "    r, g, b = 0, 0, 0\n",
    "    count = 0\n",
    "    \n",
    "    for s in range(x, image.width):\n",
    "        for t in range(y, image.height):\n",
    "            rgb_im = image.convert('RGB')\n",
    "          \n",
    "            pixlr,  pixlg, pixlb= rgb_im.getpixel((s, t))\n",
    "            r += pixlr\n",
    "            g += pixlg\n",
    "            b += pixlb\n",
    "            count += 1\n",
    "    return ((r/count), (g/count), (b/count))\n",
    "\n",
    "\n",
    "img = Image.open('toaMap.jpg')\n",
    "numbers = Image.open('just numbers.png')\n",
    "width = 67\n",
    "for x in range (2, int(img.width/width)):\n",
    "    for y in range (2, int(img.height/width)):\n",
    "        if x%2 == 0: y = y-.5\n",
    "        if y%2 == 0: x = x-.5\n",
    "        \n",
    "        crop_rectangle = ((x*width)+30,30 + y*width,((x+1)*width)+30  ,30 + (y+1)*width )\n",
    "        \n",
    "        cropped_im = img.crop(crop_rectangle)\n",
    "        numbers_cropped = numbers.crop(crop_rectangle)\n",
    "        \n",
    "        number ={}\n",
    "\n",
    "        if x%1 ==0:\n",
    "            print(\"rectangle: {}, image average: {}\".format( (y*int(img.height/width))+x-33\n",
    "                                                            , get_average_color((0,0), 25, cropped_im)))\n",
    "            imshow(np.asarray(cropped_im))\n",
    "            show()"
   ]
  },
  {
   "cell_type": "code",
   "execution_count": null,
   "metadata": {},
   "outputs": [],
   "source": []
  },
  {
   "cell_type": "code",
   "execution_count": null,
   "metadata": {},
   "outputs": [],
   "source": []
  },
  {
   "cell_type": "code",
   "execution_count": null,
   "metadata": {},
   "outputs": [],
   "source": []
  }
 ],
 "metadata": {
  "kernelspec": {
   "display_name": "Python 3",
   "language": "python",
   "name": "python3"
  },
  "language_info": {
   "codemirror_mode": {
    "name": "ipython",
    "version": 3
   },
   "file_extension": ".py",
   "mimetype": "text/x-python",
   "name": "python",
   "nbconvert_exporter": "python",
   "pygments_lexer": "ipython3",
   "version": "3.5.3"
  }
 },
 "nbformat": 4,
 "nbformat_minor": 1
}
